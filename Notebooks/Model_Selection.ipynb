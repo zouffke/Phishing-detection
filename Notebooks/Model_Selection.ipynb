{
 "cells": [
  {
   "metadata": {},
   "cell_type": "markdown",
   "source": [
    "# Model selection\n",
    "\n",
    "This notebook will cover which model we chose and why we chose this model."
   ],
   "id": "559a9a05ceb8b8a3"
  },
  {
   "metadata": {},
   "cell_type": "markdown",
   "source": [
    "## Which model?\n",
    "\n",
    "We chose to work with the random forest model as our final model to make predictions."
   ],
   "id": "e194a0c1b09c7291"
  },
  {
   "metadata": {},
   "cell_type": "markdown",
   "source": [
    "## Why?\n",
    "\n",
    "We chose this model because of the very high scores the model had. All the models we tested had a score above 99.99% but the Random forest model had a score above 99.999%.\n",
    "The dataset we used also had a lot of 'conditions' that can be used to predict the outcome which probably made the Random Forest model have a higher score than the others."
   ],
   "id": "481e78f89c5ac723"
  },
  {
   "metadata": {},
   "cell_type": "markdown",
   "source": [
    "## How?\n",
    "\n",
    "At the end of the Hyper parameter tuning notebook we used the tuning class we created ourselves to save the chosen model to a file called: random_forest.pkl. This file can then be used by a custom python script (predict.py) to predict a new URL. The predict script will take the given url. Convert it to it's corresponding features. Afterwards it will normalize these values with the values used in the normalization notebook. These values are then passed to the model to predict if the passed url is legit or phishing. "
   ],
   "id": "c7dca17c857e6c75"
  }
 ],
 "metadata": {
  "kernelspec": {
   "display_name": "Python 3",
   "language": "python",
   "name": "python3"
  },
  "language_info": {
   "codemirror_mode": {
    "name": "ipython",
    "version": 2
   },
   "file_extension": ".py",
   "mimetype": "text/x-python",
   "name": "python",
   "nbconvert_exporter": "python",
   "pygments_lexer": "ipython2",
   "version": "2.7.6"
  }
 },
 "nbformat": 4,
 "nbformat_minor": 5
}
