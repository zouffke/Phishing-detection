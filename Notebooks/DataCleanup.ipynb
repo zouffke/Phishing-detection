{
 "cells": [
  {
   "metadata": {},
   "cell_type": "markdown",
   "source": [
    "## Data Clean up\n",
    "In this file we clean up the dataset (Phishing.csv), and write it to a new csv (Phishing_Cleaned.csv)"
   ],
   "id": "ee3ac597b984a6d4"
  },
  {
   "metadata": {},
   "cell_type": "markdown",
   "source": "### Imports",
   "id": "5a86e988d530f702"
  },
  {
   "cell_type": "code",
   "id": "initial_id",
   "metadata": {
    "collapsed": true,
    "ExecuteTime": {
     "end_time": "2024-11-01T19:00:59.388376Z",
     "start_time": "2024-11-01T19:00:58.902539Z"
    }
   },
   "source": [
    "from IPython import InteractiveShell\n",
    "\n",
    "InteractiveShell.ast_node_interactivity = \"all\"\n",
    "import pandas as pd\n",
    "import numpy as np"
   ],
   "outputs": [],
   "execution_count": 1
  },
  {
   "metadata": {},
   "cell_type": "markdown",
   "source": [
    "### Reading the csv\n",
    "Here we setup pandas to read the csv properly."
   ],
   "id": "1310fc414258faab"
  },
  {
   "metadata": {
    "ExecuteTime": {
     "end_time": "2024-11-01T19:01:18.419854Z",
     "start_time": "2024-11-01T19:00:59.404405Z"
    }
   },
   "cell_type": "code",
   "source": [
    "phishing_data = pd.read_csv(\"../data/Phishing.csv\", header=0, decimal='.')\n",
    "phishing_data.head()"
   ],
   "id": "c098755b8d4d3ce2",
   "outputs": [
    {
     "data": {
      "text/plain": [
       "                                             url          source       label  \\\n",
       "0  apaceast.cloudguest.central.arubanetworks.com  Cisco-Umbrella  legitimate   \n",
       "1                              quintadonoval.com        Majestic  legitimate   \n",
       "2                               nomadfactory.com        Majestic  legitimate   \n",
       "3                               tvarenasport.com        Majestic  legitimate   \n",
       "4                    widget.cluster.groovehq.com  Cisco-Umbrella  legitimate   \n",
       "\n",
       "   url_length  starts_with_ip  url_entropy  has_punycode  digit_letter_ratio  \\\n",
       "0          45           False     3.924535         False                 0.0   \n",
       "1          17           False     3.572469         False                 0.0   \n",
       "2          16           False     3.327820         False                 0.0   \n",
       "3          16           False     3.500000         False                 0.0   \n",
       "4          27           False     3.930270         False                 0.0   \n",
       "\n",
       "   dot_count  at_count  dash_count  tld_count  domain_has_digits  \\\n",
       "0          4         0           0          0              False   \n",
       "1          1         0           0          0              False   \n",
       "2          1         0           0          0              False   \n",
       "3          1         0           0          0              False   \n",
       "4          3         0           0          0              False   \n",
       "\n",
       "   subdomain_count  nan_char_entropy  has_internal_links  \\\n",
       "0                3          0.310387               False   \n",
       "1                0          0.240439               False   \n",
       "2                0          0.250000               False   \n",
       "3                0          0.250000               False   \n",
       "4                2          0.352214               False   \n",
       "\n",
       "                                          whois_data  domain_age_days  \n",
       "0  {'domain_name': ['ARUBANETWORKS.COM', 'arubane...           8250.0  \n",
       "1  {'domain_name': ['QUINTADONOVAL.COM', 'quintad...          10106.0  \n",
       "2  {'domain_name': ['NOMADFACTORY.COM', 'nomadfac...           8111.0  \n",
       "3  {'domain_name': ['TVARENASPORT.COM', 'tvarenas...           5542.0  \n",
       "4  {'domain_name': 'GROOVEHQ.COM', 'registrar': '...           5098.0  "
      ],
      "text/html": [
       "<div>\n",
       "<style scoped>\n",
       "    .dataframe tbody tr th:only-of-type {\n",
       "        vertical-align: middle;\n",
       "    }\n",
       "\n",
       "    .dataframe tbody tr th {\n",
       "        vertical-align: top;\n",
       "    }\n",
       "\n",
       "    .dataframe thead th {\n",
       "        text-align: right;\n",
       "    }\n",
       "</style>\n",
       "<table border=\"1\" class=\"dataframe\">\n",
       "  <thead>\n",
       "    <tr style=\"text-align: right;\">\n",
       "      <th></th>\n",
       "      <th>url</th>\n",
       "      <th>source</th>\n",
       "      <th>label</th>\n",
       "      <th>url_length</th>\n",
       "      <th>starts_with_ip</th>\n",
       "      <th>url_entropy</th>\n",
       "      <th>has_punycode</th>\n",
       "      <th>digit_letter_ratio</th>\n",
       "      <th>dot_count</th>\n",
       "      <th>at_count</th>\n",
       "      <th>dash_count</th>\n",
       "      <th>tld_count</th>\n",
       "      <th>domain_has_digits</th>\n",
       "      <th>subdomain_count</th>\n",
       "      <th>nan_char_entropy</th>\n",
       "      <th>has_internal_links</th>\n",
       "      <th>whois_data</th>\n",
       "      <th>domain_age_days</th>\n",
       "    </tr>\n",
       "  </thead>\n",
       "  <tbody>\n",
       "    <tr>\n",
       "      <th>0</th>\n",
       "      <td>apaceast.cloudguest.central.arubanetworks.com</td>\n",
       "      <td>Cisco-Umbrella</td>\n",
       "      <td>legitimate</td>\n",
       "      <td>45</td>\n",
       "      <td>False</td>\n",
       "      <td>3.924535</td>\n",
       "      <td>False</td>\n",
       "      <td>0.0</td>\n",
       "      <td>4</td>\n",
       "      <td>0</td>\n",
       "      <td>0</td>\n",
       "      <td>0</td>\n",
       "      <td>False</td>\n",
       "      <td>3</td>\n",
       "      <td>0.310387</td>\n",
       "      <td>False</td>\n",
       "      <td>{'domain_name': ['ARUBANETWORKS.COM', 'arubane...</td>\n",
       "      <td>8250.0</td>\n",
       "    </tr>\n",
       "    <tr>\n",
       "      <th>1</th>\n",
       "      <td>quintadonoval.com</td>\n",
       "      <td>Majestic</td>\n",
       "      <td>legitimate</td>\n",
       "      <td>17</td>\n",
       "      <td>False</td>\n",
       "      <td>3.572469</td>\n",
       "      <td>False</td>\n",
       "      <td>0.0</td>\n",
       "      <td>1</td>\n",
       "      <td>0</td>\n",
       "      <td>0</td>\n",
       "      <td>0</td>\n",
       "      <td>False</td>\n",
       "      <td>0</td>\n",
       "      <td>0.240439</td>\n",
       "      <td>False</td>\n",
       "      <td>{'domain_name': ['QUINTADONOVAL.COM', 'quintad...</td>\n",
       "      <td>10106.0</td>\n",
       "    </tr>\n",
       "    <tr>\n",
       "      <th>2</th>\n",
       "      <td>nomadfactory.com</td>\n",
       "      <td>Majestic</td>\n",
       "      <td>legitimate</td>\n",
       "      <td>16</td>\n",
       "      <td>False</td>\n",
       "      <td>3.327820</td>\n",
       "      <td>False</td>\n",
       "      <td>0.0</td>\n",
       "      <td>1</td>\n",
       "      <td>0</td>\n",
       "      <td>0</td>\n",
       "      <td>0</td>\n",
       "      <td>False</td>\n",
       "      <td>0</td>\n",
       "      <td>0.250000</td>\n",
       "      <td>False</td>\n",
       "      <td>{'domain_name': ['NOMADFACTORY.COM', 'nomadfac...</td>\n",
       "      <td>8111.0</td>\n",
       "    </tr>\n",
       "    <tr>\n",
       "      <th>3</th>\n",
       "      <td>tvarenasport.com</td>\n",
       "      <td>Majestic</td>\n",
       "      <td>legitimate</td>\n",
       "      <td>16</td>\n",
       "      <td>False</td>\n",
       "      <td>3.500000</td>\n",
       "      <td>False</td>\n",
       "      <td>0.0</td>\n",
       "      <td>1</td>\n",
       "      <td>0</td>\n",
       "      <td>0</td>\n",
       "      <td>0</td>\n",
       "      <td>False</td>\n",
       "      <td>0</td>\n",
       "      <td>0.250000</td>\n",
       "      <td>False</td>\n",
       "      <td>{'domain_name': ['TVARENASPORT.COM', 'tvarenas...</td>\n",
       "      <td>5542.0</td>\n",
       "    </tr>\n",
       "    <tr>\n",
       "      <th>4</th>\n",
       "      <td>widget.cluster.groovehq.com</td>\n",
       "      <td>Cisco-Umbrella</td>\n",
       "      <td>legitimate</td>\n",
       "      <td>27</td>\n",
       "      <td>False</td>\n",
       "      <td>3.930270</td>\n",
       "      <td>False</td>\n",
       "      <td>0.0</td>\n",
       "      <td>3</td>\n",
       "      <td>0</td>\n",
       "      <td>0</td>\n",
       "      <td>0</td>\n",
       "      <td>False</td>\n",
       "      <td>2</td>\n",
       "      <td>0.352214</td>\n",
       "      <td>False</td>\n",
       "      <td>{'domain_name': 'GROOVEHQ.COM', 'registrar': '...</td>\n",
       "      <td>5098.0</td>\n",
       "    </tr>\n",
       "  </tbody>\n",
       "</table>\n",
       "</div>"
      ]
     },
     "execution_count": 2,
     "metadata": {},
     "output_type": "execute_result"
    }
   ],
   "execution_count": 2
  },
  {
   "metadata": {},
   "cell_type": "markdown",
   "source": "",
   "id": "ac51c56c76ff938c"
  },
  {
   "metadata": {
    "ExecuteTime": {
     "end_time": "2024-11-01T19:01:19.268688Z",
     "start_time": "2024-11-01T19:01:18.861261Z"
    }
   },
   "cell_type": "code",
   "source": [
    "# Checking for null values\n",
    "\"Amount of null values found per column in the dataset\"\n",
    "NullOverview = phishing_data.isnull().sum()\n",
    "NullOverview"
   ],
   "id": "4cef66cc7cc3c87a",
   "outputs": [
    {
     "data": {
      "text/plain": [
       "'Amount of null values found per column in the dataset'"
      ]
     },
     "execution_count": 3,
     "metadata": {},
     "output_type": "execute_result"
    },
    {
     "data": {
      "text/plain": [
       "url                        1\n",
       "source                     0\n",
       "label                      0\n",
       "url_length                 0\n",
       "starts_with_ip             0\n",
       "url_entropy                0\n",
       "has_punycode               0\n",
       "digit_letter_ratio         1\n",
       "dot_count                  0\n",
       "at_count                   0\n",
       "dash_count                 0\n",
       "tld_count                  0\n",
       "domain_has_digits          0\n",
       "subdomain_count            0\n",
       "nan_char_entropy           0\n",
       "has_internal_links         0\n",
       "whois_data            545300\n",
       "domain_age_days       750689\n",
       "dtype: int64"
      ]
     },
     "execution_count": 3,
     "metadata": {},
     "output_type": "execute_result"
    }
   ],
   "execution_count": 3
  },
  {
   "metadata": {},
   "cell_type": "markdown",
   "source": [
    "## Clearing the NaN \n",
    "Here we clean the NaN values out of the dataset using different techniques."
   ],
   "id": "d5f5ef7deaf836f3"
  },
  {
   "metadata": {},
   "cell_type": "markdown",
   "source": "",
   "id": "2c5baa7f2db485e9"
  },
  {
   "metadata": {
    "ExecuteTime": {
     "end_time": "2024-11-01T19:01:19.790720Z",
     "start_time": "2024-11-01T19:01:19.291325Z"
    }
   },
   "cell_type": "code",
   "source": [
    "\"Before removing empty URL\"\n",
    "phishing_data[phishing_data['url'].isnull()]\n",
    "data_clean = phishing_data.dropna(subset=['url'])\n",
    "\n",
    "\"After cleaning empty URL\"\n",
    "data_clean[data_clean['url'].isnull()]"
   ],
   "id": "f4859f5b36639932",
   "outputs": [
    {
     "data": {
      "text/plain": [
       "'Before removing empty URL'"
      ]
     },
     "execution_count": 4,
     "metadata": {},
     "output_type": "execute_result"
    },
    {
     "data": {
      "text/plain": [
       "         url             source     label  url_length  starts_with_ip  \\\n",
       "2026700  NaN  Phishing.Database  phishing        9639           False   \n",
       "\n",
       "         url_entropy  has_punycode  digit_letter_ratio  dot_count  at_count  \\\n",
       "2026700         -0.0         False                 NaN          0         0   \n",
       "\n",
       "         dash_count  tld_count  domain_has_digits  subdomain_count  \\\n",
       "2026700           0          0              False                0   \n",
       "\n",
       "         nan_char_entropy  has_internal_links whois_data  domain_age_days  \n",
       "2026700               0.0               False        NaN              NaN  "
      ],
      "text/html": [
       "<div>\n",
       "<style scoped>\n",
       "    .dataframe tbody tr th:only-of-type {\n",
       "        vertical-align: middle;\n",
       "    }\n",
       "\n",
       "    .dataframe tbody tr th {\n",
       "        vertical-align: top;\n",
       "    }\n",
       "\n",
       "    .dataframe thead th {\n",
       "        text-align: right;\n",
       "    }\n",
       "</style>\n",
       "<table border=\"1\" class=\"dataframe\">\n",
       "  <thead>\n",
       "    <tr style=\"text-align: right;\">\n",
       "      <th></th>\n",
       "      <th>url</th>\n",
       "      <th>source</th>\n",
       "      <th>label</th>\n",
       "      <th>url_length</th>\n",
       "      <th>starts_with_ip</th>\n",
       "      <th>url_entropy</th>\n",
       "      <th>has_punycode</th>\n",
       "      <th>digit_letter_ratio</th>\n",
       "      <th>dot_count</th>\n",
       "      <th>at_count</th>\n",
       "      <th>dash_count</th>\n",
       "      <th>tld_count</th>\n",
       "      <th>domain_has_digits</th>\n",
       "      <th>subdomain_count</th>\n",
       "      <th>nan_char_entropy</th>\n",
       "      <th>has_internal_links</th>\n",
       "      <th>whois_data</th>\n",
       "      <th>domain_age_days</th>\n",
       "    </tr>\n",
       "  </thead>\n",
       "  <tbody>\n",
       "    <tr>\n",
       "      <th>2026700</th>\n",
       "      <td>NaN</td>\n",
       "      <td>Phishing.Database</td>\n",
       "      <td>phishing</td>\n",
       "      <td>9639</td>\n",
       "      <td>False</td>\n",
       "      <td>-0.0</td>\n",
       "      <td>False</td>\n",
       "      <td>NaN</td>\n",
       "      <td>0</td>\n",
       "      <td>0</td>\n",
       "      <td>0</td>\n",
       "      <td>0</td>\n",
       "      <td>False</td>\n",
       "      <td>0</td>\n",
       "      <td>0.0</td>\n",
       "      <td>False</td>\n",
       "      <td>NaN</td>\n",
       "      <td>NaN</td>\n",
       "    </tr>\n",
       "  </tbody>\n",
       "</table>\n",
       "</div>"
      ]
     },
     "execution_count": 4,
     "metadata": {},
     "output_type": "execute_result"
    },
    {
     "data": {
      "text/plain": [
       "'After cleaning empty URL'"
      ]
     },
     "execution_count": 4,
     "metadata": {},
     "output_type": "execute_result"
    },
    {
     "data": {
      "text/plain": [
       "Empty DataFrame\n",
       "Columns: [url, source, label, url_length, starts_with_ip, url_entropy, has_punycode, digit_letter_ratio, dot_count, at_count, dash_count, tld_count, domain_has_digits, subdomain_count, nan_char_entropy, has_internal_links, whois_data, domain_age_days]\n",
       "Index: []"
      ],
      "text/html": [
       "<div>\n",
       "<style scoped>\n",
       "    .dataframe tbody tr th:only-of-type {\n",
       "        vertical-align: middle;\n",
       "    }\n",
       "\n",
       "    .dataframe tbody tr th {\n",
       "        vertical-align: top;\n",
       "    }\n",
       "\n",
       "    .dataframe thead th {\n",
       "        text-align: right;\n",
       "    }\n",
       "</style>\n",
       "<table border=\"1\" class=\"dataframe\">\n",
       "  <thead>\n",
       "    <tr style=\"text-align: right;\">\n",
       "      <th></th>\n",
       "      <th>url</th>\n",
       "      <th>source</th>\n",
       "      <th>label</th>\n",
       "      <th>url_length</th>\n",
       "      <th>starts_with_ip</th>\n",
       "      <th>url_entropy</th>\n",
       "      <th>has_punycode</th>\n",
       "      <th>digit_letter_ratio</th>\n",
       "      <th>dot_count</th>\n",
       "      <th>at_count</th>\n",
       "      <th>dash_count</th>\n",
       "      <th>tld_count</th>\n",
       "      <th>domain_has_digits</th>\n",
       "      <th>subdomain_count</th>\n",
       "      <th>nan_char_entropy</th>\n",
       "      <th>has_internal_links</th>\n",
       "      <th>whois_data</th>\n",
       "      <th>domain_age_days</th>\n",
       "    </tr>\n",
       "  </thead>\n",
       "  <tbody>\n",
       "  </tbody>\n",
       "</table>\n",
       "</div>"
      ]
     },
     "execution_count": 4,
     "metadata": {},
     "output_type": "execute_result"
    }
   ],
   "execution_count": 4
  },
  {
   "metadata": {
    "ExecuteTime": {
     "end_time": "2024-11-01T19:01:19.968216Z",
     "start_time": "2024-11-01T19:01:19.926695Z"
    }
   },
   "cell_type": "code",
   "source": [
    "lowest_number = data_clean['domain_age_days'].min()\n",
    "highest_number = data_clean['domain_age_days'].max()\n",
    "\n",
    "print(\"Lowest domain_age_days in dataset: \" + str(lowest_number))\n",
    "print(\"Highest domain_age_days in dataset: \" + str(highest_number))\n",
    "\n",
    "nan_count = data_clean['domain_age_days'].isna().sum()\n",
    "print(\"\\nNumber of NaN values in domain_age_days column:\", nan_count)"
   ],
   "id": "1732a1aabeabde0f",
   "outputs": [
    {
     "name": "stdout",
     "output_type": "stream",
     "text": [
      "Lowest domain_age_days in dataset: -86.0\n",
      "Highest domain_age_days in dataset: 45541.0\n",
      "\n",
      "Number of NaN values in domain_age_days column: 750688\n"
     ]
    }
   ],
   "execution_count": 5
  },
  {
   "metadata": {},
   "cell_type": "markdown",
   "source": "In this codeblock we change all the negative domain_age_days values to be a NaN, that way we can use imputation to make the data usable",
   "id": "7396db9415965cb8"
  },
  {
   "metadata": {
    "ExecuteTime": {
     "end_time": "2024-11-01T19:01:20.212677Z",
     "start_time": "2024-11-01T19:01:20.203309Z"
    }
   },
   "cell_type": "code",
   "source": "data_clean.loc[data_clean['domain_age_days'] < 0, 'domain_age_days'] = np.nan",
   "id": "112c7b7670298099",
   "outputs": [],
   "execution_count": 6
  },
  {
   "metadata": {
    "ExecuteTime": {
     "end_time": "2024-11-01T19:01:20.409735Z",
     "start_time": "2024-11-01T19:01:20.367022Z"
    }
   },
   "cell_type": "code",
   "source": [
    "lowest_number = data_clean['domain_age_days'].min()\n",
    "highest_number = data_clean['domain_age_days'].max()\n",
    "\n",
    "print(\"Lowest domain_age_days in dataset: \" + str(lowest_number))\n",
    "print(\"Highest domain_age_days in dataset: \" + str(highest_number))\n",
    "\n",
    "nan_count = data_clean['domain_age_days'].isna().sum()\n",
    "print(\"\\nNumber of NaN values in domain_age_days column:\", nan_count)"
   ],
   "id": "dc42a70c8bfd26af",
   "outputs": [
    {
     "name": "stdout",
     "output_type": "stream",
     "text": [
      "Lowest domain_age_days in dataset: 0.0\n",
      "Highest domain_age_days in dataset: 45541.0\n",
      "\n",
      "Number of NaN values in domain_age_days column: 750698\n"
     ]
    }
   ],
   "execution_count": 7
  },
  {
   "metadata": {},
   "cell_type": "markdown",
   "source": "Now it's time to Impute the NaN values so there are none remaining, here we use the median because it's less sensitive to outliars ",
   "id": "7c674ceb4c754dfe"
  },
  {
   "metadata": {
    "ExecuteTime": {
     "end_time": "2024-11-01T19:01:20.606664Z",
     "start_time": "2024-11-01T19:01:20.535147Z"
    }
   },
   "cell_type": "code",
   "source": [
    "median_value = data_clean['domain_age_days'].median()\n",
    "\n",
    "data_clean.loc[data_clean['domain_age_days'].isna(), 'domain_age_days'] = median_value\n",
    "\n",
    "nan_count_after = data_clean['domain_age_days'].isna().sum()\n",
    "print(\"\\nNumber of NaN values in domain_age_days column after imputation:\", nan_count_after)"
   ],
   "id": "f9bbc012e132ee83",
   "outputs": [
    {
     "name": "stdout",
     "output_type": "stream",
     "text": [
      "\n",
      "Number of NaN values in domain_age_days column after imputation: 0\n"
     ]
    }
   ],
   "execution_count": 8
  },
  {
   "metadata": {},
   "cell_type": "markdown",
   "source": [
    "## Removal of whois_data\n",
    "Here we remove whois_data because it's hard to use it properly in our model."
   ],
   "id": "df7b238b81f0cdf3"
  },
  {
   "metadata": {
    "ExecuteTime": {
     "end_time": "2024-11-01T19:01:20.670756Z",
     "start_time": "2024-11-01T19:01:20.663245Z"
    }
   },
   "cell_type": "code",
   "source": "data_clean.pop('whois_data')",
   "id": "6590534b7fad6f8f",
   "outputs": [
    {
     "data": {
      "text/plain": [
       "0          {'domain_name': ['ARUBANETWORKS.COM', 'arubane...\n",
       "1          {'domain_name': ['QUINTADONOVAL.COM', 'quintad...\n",
       "2          {'domain_name': ['NOMADFACTORY.COM', 'nomadfac...\n",
       "3          {'domain_name': ['TVARENASPORT.COM', 'tvarenas...\n",
       "4          {'domain_name': 'GROOVEHQ.COM', 'registrar': '...\n",
       "                                 ...                        \n",
       "2499995    {'domain_name': 'novoatend', 'registrar': None...\n",
       "2499996                                                  NaN\n",
       "2499997                                                  NaN\n",
       "2499998    {'domain_name': 'alternateangle.in', 'registra...\n",
       "2499999    {'domain_name': None, 'registrar': None, 'whoi...\n",
       "Name: whois_data, Length: 2499999, dtype: object"
      ]
     },
     "execution_count": 9,
     "metadata": {},
     "output_type": "execute_result"
    }
   ],
   "execution_count": 9
  },
  {
   "metadata": {},
   "cell_type": "markdown",
   "source": [
    "## Removal of sources\n",
    "We remove the sources because all the phishing links came from the same 3 sources, this produces bias in the dataset "
   ],
   "id": "8c7b5b705e8b7d47"
  },
  {
   "metadata": {
    "ExecuteTime": {
     "end_time": "2024-11-01T19:01:21.085459Z",
     "start_time": "2024-11-01T19:01:20.757716Z"
    }
   },
   "cell_type": "code",
   "source": "data_clean[(data_clean['label'] == 'phishing')]['source'].unique()",
   "id": "292fd3421768953f",
   "outputs": [
    {
     "data": {
      "text/plain": [
       "array(['Phishing.Database', 'PhishTank', 'OpenPhish-Community'],\n",
       "      dtype=object)"
      ]
     },
     "execution_count": 10,
     "metadata": {},
     "output_type": "execute_result"
    }
   ],
   "execution_count": 10
  },
  {
   "metadata": {
    "ExecuteTime": {
     "end_time": "2024-11-01T19:01:21.121020Z",
     "start_time": "2024-11-01T19:01:21.115064Z"
    }
   },
   "cell_type": "code",
   "source": "data_clean.pop('source')",
   "id": "417855db872e6ebc",
   "outputs": [
    {
     "data": {
      "text/plain": [
       "0             Cisco-Umbrella\n",
       "1                   Majestic\n",
       "2                   Majestic\n",
       "3                   Majestic\n",
       "4             Cisco-Umbrella\n",
       "                 ...        \n",
       "2499995    Phishing.Database\n",
       "2499996    Phishing.Database\n",
       "2499997    Phishing.Database\n",
       "2499998    Phishing.Database\n",
       "2499999    Phishing.Database\n",
       "Name: source, Length: 2499999, dtype: object"
      ]
     },
     "execution_count": 11,
     "metadata": {},
     "output_type": "execute_result"
    }
   ],
   "execution_count": 11
  },
  {
   "metadata": {
    "ExecuteTime": {
     "end_time": "2024-11-01T19:01:22.217240Z",
     "start_time": "2024-11-01T19:01:21.239311Z"
    }
   },
   "cell_type": "code",
   "source": "data_clean[(data_clean['url'].str.contains('-randomstring1'))]",
   "id": "54a0cec35e2dc45e",
   "outputs": [
    {
     "data": {
      "text/plain": [
       "                                                       url     label  \\\n",
       "1382278  https://npaiaajvaxrjmmhagh.com∕[-randomstring1...  phishing   \n",
       "1560982  https://ztftbcjtlvpsejgcqi.com∕[-randomstring1...  phishing   \n",
       "1664672  https://tzdxqliipbsbyprdbikhwbzgi.com∕[-random...  phishing   \n",
       "1913540  https://lfjifcdhdkrpwhqbuuyigwh.com∕[-randomst...  phishing   \n",
       "2283936  https://obxwijgahveotwmzmnxm.com∕[-randomstrin...  phishing   \n",
       "2309359  https://1wbzjkhyay9f76ev4qoki4r7∕1wbzjkhyay9f7...  phishing   \n",
       "2349192  https://bnv2nzdppjqsnxzo∕bnv2nzdppjqsnxzo∕[-ra...  phishing   \n",
       "\n",
       "         url_length  starts_with_ip  url_entropy  has_punycode  \\\n",
       "1382278         147           False     4.676039          True   \n",
       "1560982         147           False     4.916021          True   \n",
       "1664672         161           False     4.939577          True   \n",
       "1913540         157           False     5.010871          True   \n",
       "2283936         151           False     4.862656          True   \n",
       "2309359         233           False     4.957926          True   \n",
       "2349192         216           False     4.692096          True   \n",
       "\n",
       "         digit_letter_ratio  dot_count  at_count  dash_count  tld_count  \\\n",
       "1382278            0.035714          5         1           8          2   \n",
       "1560982            0.035714          5         1           8          2   \n",
       "1664672            0.031746          5         1           8          2   \n",
       "1913540            0.032787          5         1           8          2   \n",
       "2283936            0.034483          5         1           8          2   \n",
       "2309359            0.135802          1         1          21          0   \n",
       "2349192            0.063694          1         1          21          0   \n",
       "\n",
       "         domain_has_digits  subdomain_count  nan_char_entropy  \\\n",
       "1382278              False                1          0.737305   \n",
       "1560982              False                1          0.737305   \n",
       "1664672              False                1          0.689495   \n",
       "1913540              False                1          0.702438   \n",
       "2283936              False                1          0.722904   \n",
       "2309359              False                0          0.617381   \n",
       "2349192              False                0          0.653321   \n",
       "\n",
       "         has_internal_links  domain_age_days  \n",
       "1382278                True            384.0  \n",
       "1560982                True            384.0  \n",
       "1664672                True            384.0  \n",
       "1913540                True            384.0  \n",
       "2283936                True            384.0  \n",
       "2309359               False            353.0  \n",
       "2349192               False            353.0  "
      ],
      "text/html": [
       "<div>\n",
       "<style scoped>\n",
       "    .dataframe tbody tr th:only-of-type {\n",
       "        vertical-align: middle;\n",
       "    }\n",
       "\n",
       "    .dataframe tbody tr th {\n",
       "        vertical-align: top;\n",
       "    }\n",
       "\n",
       "    .dataframe thead th {\n",
       "        text-align: right;\n",
       "    }\n",
       "</style>\n",
       "<table border=\"1\" class=\"dataframe\">\n",
       "  <thead>\n",
       "    <tr style=\"text-align: right;\">\n",
       "      <th></th>\n",
       "      <th>url</th>\n",
       "      <th>label</th>\n",
       "      <th>url_length</th>\n",
       "      <th>starts_with_ip</th>\n",
       "      <th>url_entropy</th>\n",
       "      <th>has_punycode</th>\n",
       "      <th>digit_letter_ratio</th>\n",
       "      <th>dot_count</th>\n",
       "      <th>at_count</th>\n",
       "      <th>dash_count</th>\n",
       "      <th>tld_count</th>\n",
       "      <th>domain_has_digits</th>\n",
       "      <th>subdomain_count</th>\n",
       "      <th>nan_char_entropy</th>\n",
       "      <th>has_internal_links</th>\n",
       "      <th>domain_age_days</th>\n",
       "    </tr>\n",
       "  </thead>\n",
       "  <tbody>\n",
       "    <tr>\n",
       "      <th>1382278</th>\n",
       "      <td>https://npaiaajvaxrjmmhagh.com∕[-randomstring1...</td>\n",
       "      <td>phishing</td>\n",
       "      <td>147</td>\n",
       "      <td>False</td>\n",
       "      <td>4.676039</td>\n",
       "      <td>True</td>\n",
       "      <td>0.035714</td>\n",
       "      <td>5</td>\n",
       "      <td>1</td>\n",
       "      <td>8</td>\n",
       "      <td>2</td>\n",
       "      <td>False</td>\n",
       "      <td>1</td>\n",
       "      <td>0.737305</td>\n",
       "      <td>True</td>\n",
       "      <td>384.0</td>\n",
       "    </tr>\n",
       "    <tr>\n",
       "      <th>1560982</th>\n",
       "      <td>https://ztftbcjtlvpsejgcqi.com∕[-randomstring1...</td>\n",
       "      <td>phishing</td>\n",
       "      <td>147</td>\n",
       "      <td>False</td>\n",
       "      <td>4.916021</td>\n",
       "      <td>True</td>\n",
       "      <td>0.035714</td>\n",
       "      <td>5</td>\n",
       "      <td>1</td>\n",
       "      <td>8</td>\n",
       "      <td>2</td>\n",
       "      <td>False</td>\n",
       "      <td>1</td>\n",
       "      <td>0.737305</td>\n",
       "      <td>True</td>\n",
       "      <td>384.0</td>\n",
       "    </tr>\n",
       "    <tr>\n",
       "      <th>1664672</th>\n",
       "      <td>https://tzdxqliipbsbyprdbikhwbzgi.com∕[-random...</td>\n",
       "      <td>phishing</td>\n",
       "      <td>161</td>\n",
       "      <td>False</td>\n",
       "      <td>4.939577</td>\n",
       "      <td>True</td>\n",
       "      <td>0.031746</td>\n",
       "      <td>5</td>\n",
       "      <td>1</td>\n",
       "      <td>8</td>\n",
       "      <td>2</td>\n",
       "      <td>False</td>\n",
       "      <td>1</td>\n",
       "      <td>0.689495</td>\n",
       "      <td>True</td>\n",
       "      <td>384.0</td>\n",
       "    </tr>\n",
       "    <tr>\n",
       "      <th>1913540</th>\n",
       "      <td>https://lfjifcdhdkrpwhqbuuyigwh.com∕[-randomst...</td>\n",
       "      <td>phishing</td>\n",
       "      <td>157</td>\n",
       "      <td>False</td>\n",
       "      <td>5.010871</td>\n",
       "      <td>True</td>\n",
       "      <td>0.032787</td>\n",
       "      <td>5</td>\n",
       "      <td>1</td>\n",
       "      <td>8</td>\n",
       "      <td>2</td>\n",
       "      <td>False</td>\n",
       "      <td>1</td>\n",
       "      <td>0.702438</td>\n",
       "      <td>True</td>\n",
       "      <td>384.0</td>\n",
       "    </tr>\n",
       "    <tr>\n",
       "      <th>2283936</th>\n",
       "      <td>https://obxwijgahveotwmzmnxm.com∕[-randomstrin...</td>\n",
       "      <td>phishing</td>\n",
       "      <td>151</td>\n",
       "      <td>False</td>\n",
       "      <td>4.862656</td>\n",
       "      <td>True</td>\n",
       "      <td>0.034483</td>\n",
       "      <td>5</td>\n",
       "      <td>1</td>\n",
       "      <td>8</td>\n",
       "      <td>2</td>\n",
       "      <td>False</td>\n",
       "      <td>1</td>\n",
       "      <td>0.722904</td>\n",
       "      <td>True</td>\n",
       "      <td>384.0</td>\n",
       "    </tr>\n",
       "    <tr>\n",
       "      <th>2309359</th>\n",
       "      <td>https://1wbzjkhyay9f76ev4qoki4r7∕1wbzjkhyay9f7...</td>\n",
       "      <td>phishing</td>\n",
       "      <td>233</td>\n",
       "      <td>False</td>\n",
       "      <td>4.957926</td>\n",
       "      <td>True</td>\n",
       "      <td>0.135802</td>\n",
       "      <td>1</td>\n",
       "      <td>1</td>\n",
       "      <td>21</td>\n",
       "      <td>0</td>\n",
       "      <td>False</td>\n",
       "      <td>0</td>\n",
       "      <td>0.617381</td>\n",
       "      <td>False</td>\n",
       "      <td>353.0</td>\n",
       "    </tr>\n",
       "    <tr>\n",
       "      <th>2349192</th>\n",
       "      <td>https://bnv2nzdppjqsnxzo∕bnv2nzdppjqsnxzo∕[-ra...</td>\n",
       "      <td>phishing</td>\n",
       "      <td>216</td>\n",
       "      <td>False</td>\n",
       "      <td>4.692096</td>\n",
       "      <td>True</td>\n",
       "      <td>0.063694</td>\n",
       "      <td>1</td>\n",
       "      <td>1</td>\n",
       "      <td>21</td>\n",
       "      <td>0</td>\n",
       "      <td>False</td>\n",
       "      <td>0</td>\n",
       "      <td>0.653321</td>\n",
       "      <td>False</td>\n",
       "      <td>353.0</td>\n",
       "    </tr>\n",
       "  </tbody>\n",
       "</table>\n",
       "</div>"
      ]
     },
     "execution_count": 12,
     "metadata": {},
     "output_type": "execute_result"
    }
   ],
   "execution_count": 12
  },
  {
   "metadata": {
    "ExecuteTime": {
     "end_time": "2024-11-01T19:01:23.260502Z",
     "start_time": "2024-11-01T19:01:22.246701Z"
    }
   },
   "cell_type": "code",
   "source": "data_clean = data_clean[~data_clean['url'].str.contains('-randomstring1')]",
   "id": "75e4954b883fc29e",
   "outputs": [],
   "execution_count": 13
  },
  {
   "metadata": {
    "ExecuteTime": {
     "end_time": "2024-11-01T19:01:23.448575Z",
     "start_time": "2024-11-01T19:01:23.293269Z"
    }
   },
   "cell_type": "code",
   "source": [
    "data_clean.loc[:, 'label'] = data_clean['label'].astype('category')\n",
    "\n",
    "print(data_clean['label'])"
   ],
   "id": "36c55c634e5e5b98",
   "outputs": [
    {
     "name": "stdout",
     "output_type": "stream",
     "text": [
      "0          legitimate\n",
      "1          legitimate\n",
      "2          legitimate\n",
      "3          legitimate\n",
      "4          legitimate\n",
      "              ...    \n",
      "2499995      phishing\n",
      "2499996      phishing\n",
      "2499997      phishing\n",
      "2499998      phishing\n",
      "2499999      phishing\n",
      "Name: label, Length: 2499992, dtype: object\n"
     ]
    }
   ],
   "execution_count": 14
  },
  {
   "metadata": {
    "ExecuteTime": {
     "end_time": "2024-11-01T19:01:39.526366Z",
     "start_time": "2024-11-01T19:01:23.477346Z"
    }
   },
   "cell_type": "code",
   "source": "data_clean.sample(frac=1).to_csv('../data/clean_data.csv', index=False)",
   "id": "dc7f4e4f65b38ab7",
   "outputs": [],
   "execution_count": 15
  },
  {
   "metadata": {},
   "cell_type": "markdown",
   "source": "## Checks after export",
   "id": "f02ef2e8c5898fee"
  },
  {
   "metadata": {
    "ExecuteTime": {
     "end_time": "2024-11-01T19:01:43.350405Z",
     "start_time": "2024-11-01T19:01:39.534908Z"
    }
   },
   "cell_type": "code",
   "source": [
    "data = pd.read_csv(\"../data/clean_data.csv\", sep=\",\", header=0)\n",
    "data.head()"
   ],
   "id": "4ffe8848a0dbcb9a",
   "outputs": [
    {
     "data": {
      "text/plain": [
       "                                                 url       label  url_length  \\\n",
       "0                             bluevalentinemovie.com  legitimate          22   \n",
       "1                         divergeit.deskdirector.com  legitimate          26   \n",
       "2  https://confirmation-sms-code.ig-email.com/aut...    phishing          53   \n",
       "3       http://aseel-tourism.com/--/78703/Login.html    phishing          44   \n",
       "4                                st.truyenqqviet.com  legitimate          19   \n",
       "\n",
       "   starts_with_ip  url_entropy  has_punycode  digit_letter_ratio  dot_count  \\\n",
       "0           False     3.550341         False            0.000000          1   \n",
       "1           False     3.536414         False            0.000000          2   \n",
       "2           False     4.215075         False            0.000000          2   \n",
       "3           False     4.371379         False            0.178571          2   \n",
       "4           False     3.681881         False            0.000000          2   \n",
       "\n",
       "   at_count  dash_count  tld_count  domain_has_digits  subdomain_count  \\\n",
       "0         0           0          0              False                0   \n",
       "1         0           0          0              False                1   \n",
       "2         0           3          0              False                1   \n",
       "3         0           3          0              False                0   \n",
       "4         0           0          0              False                1   \n",
       "\n",
       "   nan_char_entropy  has_internal_links  domain_age_days  \n",
       "0          0.202701               False           5355.0  \n",
       "1          0.284649               False           4489.0  \n",
       "2          0.520993               False             81.0  \n",
       "3          0.683314               False           4281.0  \n",
       "4          0.341887               False            173.0  "
      ],
      "text/html": [
       "<div>\n",
       "<style scoped>\n",
       "    .dataframe tbody tr th:only-of-type {\n",
       "        vertical-align: middle;\n",
       "    }\n",
       "\n",
       "    .dataframe tbody tr th {\n",
       "        vertical-align: top;\n",
       "    }\n",
       "\n",
       "    .dataframe thead th {\n",
       "        text-align: right;\n",
       "    }\n",
       "</style>\n",
       "<table border=\"1\" class=\"dataframe\">\n",
       "  <thead>\n",
       "    <tr style=\"text-align: right;\">\n",
       "      <th></th>\n",
       "      <th>url</th>\n",
       "      <th>label</th>\n",
       "      <th>url_length</th>\n",
       "      <th>starts_with_ip</th>\n",
       "      <th>url_entropy</th>\n",
       "      <th>has_punycode</th>\n",
       "      <th>digit_letter_ratio</th>\n",
       "      <th>dot_count</th>\n",
       "      <th>at_count</th>\n",
       "      <th>dash_count</th>\n",
       "      <th>tld_count</th>\n",
       "      <th>domain_has_digits</th>\n",
       "      <th>subdomain_count</th>\n",
       "      <th>nan_char_entropy</th>\n",
       "      <th>has_internal_links</th>\n",
       "      <th>domain_age_days</th>\n",
       "    </tr>\n",
       "  </thead>\n",
       "  <tbody>\n",
       "    <tr>\n",
       "      <th>0</th>\n",
       "      <td>bluevalentinemovie.com</td>\n",
       "      <td>legitimate</td>\n",
       "      <td>22</td>\n",
       "      <td>False</td>\n",
       "      <td>3.550341</td>\n",
       "      <td>False</td>\n",
       "      <td>0.000000</td>\n",
       "      <td>1</td>\n",
       "      <td>0</td>\n",
       "      <td>0</td>\n",
       "      <td>0</td>\n",
       "      <td>False</td>\n",
       "      <td>0</td>\n",
       "      <td>0.202701</td>\n",
       "      <td>False</td>\n",
       "      <td>5355.0</td>\n",
       "    </tr>\n",
       "    <tr>\n",
       "      <th>1</th>\n",
       "      <td>divergeit.deskdirector.com</td>\n",
       "      <td>legitimate</td>\n",
       "      <td>26</td>\n",
       "      <td>False</td>\n",
       "      <td>3.536414</td>\n",
       "      <td>False</td>\n",
       "      <td>0.000000</td>\n",
       "      <td>2</td>\n",
       "      <td>0</td>\n",
       "      <td>0</td>\n",
       "      <td>0</td>\n",
       "      <td>False</td>\n",
       "      <td>1</td>\n",
       "      <td>0.284649</td>\n",
       "      <td>False</td>\n",
       "      <td>4489.0</td>\n",
       "    </tr>\n",
       "    <tr>\n",
       "      <th>2</th>\n",
       "      <td>https://confirmation-sms-code.ig-email.com/aut...</td>\n",
       "      <td>phishing</td>\n",
       "      <td>53</td>\n",
       "      <td>False</td>\n",
       "      <td>4.215075</td>\n",
       "      <td>False</td>\n",
       "      <td>0.000000</td>\n",
       "      <td>2</td>\n",
       "      <td>0</td>\n",
       "      <td>3</td>\n",
       "      <td>0</td>\n",
       "      <td>False</td>\n",
       "      <td>1</td>\n",
       "      <td>0.520993</td>\n",
       "      <td>False</td>\n",
       "      <td>81.0</td>\n",
       "    </tr>\n",
       "    <tr>\n",
       "      <th>3</th>\n",
       "      <td>http://aseel-tourism.com/--/78703/Login.html</td>\n",
       "      <td>phishing</td>\n",
       "      <td>44</td>\n",
       "      <td>False</td>\n",
       "      <td>4.371379</td>\n",
       "      <td>False</td>\n",
       "      <td>0.178571</td>\n",
       "      <td>2</td>\n",
       "      <td>0</td>\n",
       "      <td>3</td>\n",
       "      <td>0</td>\n",
       "      <td>False</td>\n",
       "      <td>0</td>\n",
       "      <td>0.683314</td>\n",
       "      <td>False</td>\n",
       "      <td>4281.0</td>\n",
       "    </tr>\n",
       "    <tr>\n",
       "      <th>4</th>\n",
       "      <td>st.truyenqqviet.com</td>\n",
       "      <td>legitimate</td>\n",
       "      <td>19</td>\n",
       "      <td>False</td>\n",
       "      <td>3.681881</td>\n",
       "      <td>False</td>\n",
       "      <td>0.000000</td>\n",
       "      <td>2</td>\n",
       "      <td>0</td>\n",
       "      <td>0</td>\n",
       "      <td>0</td>\n",
       "      <td>False</td>\n",
       "      <td>1</td>\n",
       "      <td>0.341887</td>\n",
       "      <td>False</td>\n",
       "      <td>173.0</td>\n",
       "    </tr>\n",
       "  </tbody>\n",
       "</table>\n",
       "</div>"
      ]
     },
     "execution_count": 16,
     "metadata": {},
     "output_type": "execute_result"
    }
   ],
   "execution_count": 16
  },
  {
   "metadata": {},
   "cell_type": "markdown",
   "source": "## Checking for NaN values",
   "id": "c5dffaffa4ecffab"
  },
  {
   "metadata": {
    "ExecuteTime": {
     "end_time": "2024-11-01T19:01:43.577223Z",
     "start_time": "2024-11-01T19:01:43.394037Z"
    }
   },
   "cell_type": "code",
   "source": [
    "\"Amount of null values found per column in the dataset\"\n",
    "NullOverview = data.isnull().sum()\n",
    "NullOverview"
   ],
   "id": "b08b8672745613a",
   "outputs": [
    {
     "data": {
      "text/plain": [
       "'Amount of null values found per column in the dataset'"
      ]
     },
     "execution_count": 17,
     "metadata": {},
     "output_type": "execute_result"
    },
    {
     "data": {
      "text/plain": [
       "url                   0\n",
       "label                 0\n",
       "url_length            0\n",
       "starts_with_ip        0\n",
       "url_entropy           0\n",
       "has_punycode          0\n",
       "digit_letter_ratio    0\n",
       "dot_count             0\n",
       "at_count              0\n",
       "dash_count            0\n",
       "tld_count             0\n",
       "domain_has_digits     0\n",
       "subdomain_count       0\n",
       "nan_char_entropy      0\n",
       "has_internal_links    0\n",
       "domain_age_days       0\n",
       "dtype: int64"
      ]
     },
     "execution_count": 17,
     "metadata": {},
     "output_type": "execute_result"
    }
   ],
   "execution_count": 17
  }
 ],
 "metadata": {
  "kernelspec": {
   "display_name": "Python 3",
   "language": "python",
   "name": "python3"
  },
  "language_info": {
   "codemirror_mode": {
    "name": "ipython",
    "version": 2
   },
   "file_extension": ".py",
   "mimetype": "text/x-python",
   "name": "python",
   "nbconvert_exporter": "python",
   "pygments_lexer": "ipython2",
   "version": "2.7.6"
  }
 },
 "nbformat": 4,
 "nbformat_minor": 5
}
